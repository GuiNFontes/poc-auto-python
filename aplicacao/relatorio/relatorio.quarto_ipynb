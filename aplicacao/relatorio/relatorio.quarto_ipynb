{
  "cells": [
    {
      "cell_type": "markdown",
      "metadata": {},
      "source": [
        "---\n",
        "title: \"Relatório de Câmbio (BRL/USD)\"\n",
        "author: \"Fernando da Silva\"\n",
        "format: html\n",
        "jupyter: python3\n",
        "---\n",
        "\n",
        "\n",
        "Neste relatório mostro como utilizar o Python para obter dados públicos da taxa de câmbio (BRL/USD, livre, média mensal de venda) através da API do Banco Central do Brasil e produzir um gráfico com sua evolução recente.\n",
        "\n",
        "## Bibliotecas\n",
        "\n",
        "Primeiro é necessário importar as bibliotecas de Python (e instalar caso não estejam instalados ainda) para usar as funções úteis de coleta, tratamento e visualização de dados:\n"
      ],
      "id": "009bb9d5"
    },
    {
      "cell_type": "code",
      "metadata": {},
      "source": [
        "# Importar bibliotecas\n",
        "from bcb import sgs\n",
        "import pandas as pd\n",
        "import plotnine as p9"
      ],
      "id": "f9aea7a8",
      "execution_count": null,
      "outputs": []
    },
    {
      "cell_type": "markdown",
      "metadata": {},
      "source": [
        "## Dados\n",
        "\n",
        "Em seguida é necessário identificar o código da série temporal desejada no sistema SGS/BCB e utilizar este código para obter os dados com a bibliotecas `python-bcb`:\n"
      ],
      "id": "ae897271"
    },
    {
      "cell_type": "code",
      "metadata": {},
      "source": [
        "# Coleta de dados\n",
        "dados = sgs.get(\n",
        "    codes = {\"cambio\": 3698},\n",
        "    start = pd.to_datetime(\"today\") - pd.DateOffset(years = 4)\n",
        "    )"
      ],
      "id": "01f40f81",
      "execution_count": null,
      "outputs": []
    },
    {
      "cell_type": "markdown",
      "metadata": {},
      "source": [
        "Os dados brutos obtidos no SGS/BCB são exibidos abaixo:\n"
      ],
      "id": "cc5a6d5d"
    },
    {
      "cell_type": "code",
      "metadata": {},
      "source": [
        "dados.tail()"
      ],
      "id": "6649dbf3",
      "execution_count": null,
      "outputs": []
    },
    {
      "cell_type": "markdown",
      "metadata": {},
      "source": [
        "Abaixo criamos uma colunna adicional com a informação do índice da tabela:\n"
      ],
      "id": "e81070bd"
    },
    {
      "cell_type": "code",
      "metadata": {},
      "source": [
        "dados = dados.assign(data = dados.index)"
      ],
      "id": "76253547",
      "execution_count": null,
      "outputs": []
    },
    {
      "cell_type": "markdown",
      "metadata": {},
      "source": [
        "## Visualização de Dados\n",
        "\n",
        "Por fim, pode ser utilizado um pacote de visualização de dados como o `plotnine` para gerar um gráfico de linha com a série da taxa de câmbio:\n"
      ],
      "id": "ab312fd7"
    },
    {
      "cell_type": "code",
      "metadata": {},
      "source": [
        "# Gráfico de linha\n",
        "grafico_cambio = ((p9.ggplot(data = dados) +\n",
        "  p9.aes(x = \"data\", y = \"cambio\") +\n",
        "  p9.geom_line(color = \"darkblue\", size = 1) +\n",
        "  p9.scale_x_date(date_labels = \"%Y\") +\n",
        "  p9.ggtitle(\"Taxa de câmbio livre\") +\n",
        "  p9.ylab(\"BRL/USD\") +\n",
        "  p9.xlab(\"\") +\n",
        "  p9.labs(\n",
        "    caption = \"Nota: Média mensal de venda | Dados: BCB | Elaboração: Fernando da Silva\"\n",
        "    ) +\n",
        "  p9.theme_light()))\n",
        "\n",
        "grafico_cambio.show()"
      ],
      "id": "04ee4143",
      "execution_count": null,
      "outputs": []
    }
  ],
  "metadata": {
    "kernelspec": {
      "name": "python3",
      "language": "python",
      "display_name": "Python 3 (ipykernel)",
      "path": "/home/vscode/.cache/pypoetry/virtualenvs/pad42-automatizacao2-43E0VmFD-py3.12/share/jupyter/kernels/python3"
    }
  },
  "nbformat": 4,
  "nbformat_minor": 5
}